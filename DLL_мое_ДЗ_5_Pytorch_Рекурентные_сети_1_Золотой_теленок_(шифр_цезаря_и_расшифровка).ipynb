{
  "nbformat": 4,
  "nbformat_minor": 0,
  "metadata": {
    "colab": {
      "provenance": []
    },
    "kernelspec": {
      "name": "python3",
      "display_name": "Python 3"
    },
    "language_info": {
      "name": "python"
    },
    "accelerator": "GPU"
  },
  "cells": [
    {
      "cell_type": "code",
      "metadata": {
        "id": "_Rq-LP3YuI2w"
      },
      "source": [
        "import torch\n",
        "import pandas as pd\n",
        "from sklearn.model_selection import train_test_split\n",
        "import time\n",
        "\n",
        "import random"
      ],
      "execution_count": null,
      "outputs": []
    },
    {
      "cell_type": "code",
      "metadata": {
        "id": "AObYk7DbovUs"
      },
      "source": [
        "import os\n",
        "import re\n",
        "import sys\n",
        "from google.colab import drive"
      ],
      "execution_count": null,
      "outputs": []
    },
    {
      "cell_type": "code",
      "metadata": {
        "id": "S9--cCzKKGzY"
      },
      "source": [
        "import copy"
      ],
      "execution_count": null,
      "outputs": []
    },
    {
      "cell_type": "code",
      "metadata": {
        "id": "hLDPN3VXJsLJ"
      },
      "source": [
        "dev = torch.device(\"cuda\") if torch.cuda.is_available() else torch.device(\"cpu\")"
      ],
      "execution_count": null,
      "outputs": []
    },
    {
      "cell_type": "markdown",
      "metadata": {
        "id": "qAnYff42v4TQ"
      },
      "source": [
        "**1. шифра Цезаря**"
      ]
    },
    {
      "cell_type": "code",
      "metadata": {
        "id": "TeaiOWUIuPc5"
      },
      "source": [
        "def Сaesar(string, num):\n",
        "    output = ''\n",
        "    for c in string:\n",
        "        if c.isalpha():\n",
        "            new_num = ord(c) + num\n",
        "            if new_num > ord('я'):\n",
        "                new_num -= 32\n",
        "            output += chr(new_num)\n",
        "        else:\n",
        "            output += c\n",
        "    return output"
      ],
      "execution_count": null,
      "outputs": []
    },
    {
      "cell_type": "code",
      "metadata": {
        "colab": {
          "base_uri": "https://localhost:8080/",
          "height": 36
        },
        "id": "8K4bw1OBuVUG",
        "outputId": "e5da24b5-8a31-4330-b772-6a526df47ae0"
      },
      "source": [
        "Сaesar('яма', 2)"
      ],
      "execution_count": null,
      "outputs": [
        {
          "output_type": "execute_result",
          "data": {
            "text/plain": [
              "'бов'"
            ],
            "application/vnd.google.colaboratory.intrinsic+json": {
              "type": "string"
            }
          },
          "metadata": {},
          "execution_count": 70
        }
      ]
    },
    {
      "cell_type": "markdown",
      "metadata": {
        "id": "f-Wm73XEwZVd"
      },
      "source": [
        "**2. Исходные данные**"
      ]
    },
    {
      "cell_type": "code",
      "source": [
        "drive.mount('/content/gdrive')"
      ],
      "metadata": {
        "colab": {
          "base_uri": "https://localhost:8080/"
        },
        "id": "3rvJ3hFyhlcr",
        "outputId": "70e744c6-edbe-4c8e-8869-9165412b24c5"
      },
      "execution_count": null,
      "outputs": [
        {
          "output_type": "stream",
          "name": "stdout",
          "text": [
            "Drive already mounted at /content/gdrive; to attempt to forcibly remount, call drive.mount(\"/content/gdrive\", force_remount=True).\n"
          ]
        }
      ]
    },
    {
      "cell_type": "code",
      "source": [
        "os.chdir('/content/gdrive/MyDrive/Colab Notebooks/DOM')"
      ],
      "metadata": {
        "id": "7ppcdwIACr88"
      },
      "execution_count": null,
      "outputs": []
    },
    {
      "cell_type": "code",
      "source": [
        "with open ('/content/gdrive/MyDrive/Colab Notebooks/DOM/NETOLOGIA/Золотой_теленок.txt',encoding='cp1251') as f:\n",
        "  text = f.read().lower()\n",
        "print (len(text))\n",
        "text = re.sub('[^а-я ]', '', text)\n",
        "text = re.sub('\\s+', ' ', text)"
      ],
      "metadata": {
        "colab": {
          "base_uri": "https://localhost:8080/"
        },
        "id": "Iz_OWElsd9dk",
        "outputId": "a96194e2-507e-4e80-aa6c-3f5e4d16be02"
      },
      "execution_count": null,
      "outputs": [
        {
          "output_type": "stream",
          "name": "stdout",
          "text": [
            "617314\n"
          ]
        }
      ]
    },
    {
      "cell_type": "code",
      "source": [
        "txt = []\n",
        "for i in range(int(len(text) / 50)):\n",
        "    txt.append(text[i * 50:(i + 1) * 50])"
      ],
      "metadata": {
        "id": "vegAD9T8eFjp"
      },
      "execution_count": null,
      "outputs": []
    },
    {
      "cell_type": "code",
      "source": [
        "txt[:2]"
      ],
      "metadata": {
        "colab": {
          "base_uri": "https://localhost:8080/"
        },
        "id": "PqUCjUuZeSiJ",
        "outputId": "a0c1d847-1895-4ee9-d8aa-f47b41301bec"
      },
      "execution_count": null,
      "outputs": [
        {
          "output_type": "execute_result",
          "data": {
            "text/plain": [
              "['пешеходов надо любить пешеходы составляют большую ',\n",
              " 'часть человечества мало тоголучшую его часть пешех']"
            ]
          },
          "metadata": {},
          "execution_count": 75
        }
      ]
    },
    {
      "cell_type": "markdown",
      "metadata": {
        "id": "uWnA1AkxqDlh"
      },
      "source": [
        "**3. Подготовка данных**"
      ]
    },
    {
      "cell_type": "code",
      "source": [
        "df = pd.DataFrame(txt)"
      ],
      "metadata": {
        "id": "TaL7Sqdwg14Z"
      },
      "execution_count": null,
      "outputs": []
    },
    {
      "cell_type": "code",
      "source": [
        "df = df.rename(columns={0: \"Текст_нарезка_50\"})"
      ],
      "metadata": {
        "id": "627YwhBHhwXw"
      },
      "execution_count": null,
      "outputs": []
    },
    {
      "cell_type": "code",
      "source": [
        "df.head(5)"
      ],
      "metadata": {
        "colab": {
          "base_uri": "https://localhost:8080/",
          "height": 206
        },
        "id": "BrK2CFd3ktYr",
        "outputId": "45fb8ab8-40b9-4b68-8054-b674b7faad86"
      },
      "execution_count": null,
      "outputs": [
        {
          "output_type": "execute_result",
          "data": {
            "text/plain": [
              "                                    Текст_нарезка_50\n",
              "0  пешеходов надо любить пешеходы составляют боль...\n",
              "1  часть человечества мало тоголучшую его часть п...\n",
              "2  оды создали мир это они построили города возве...\n",
              "3  ногоэтажные здания провели канализацию и водоп...\n",
              "4  д замостили улицы и осветили их электрическими..."
            ],
            "text/html": [
              "\n",
              "  <div id=\"df-bb2ed6e9-e8be-4665-9a5b-19ae5f93af1c\">\n",
              "    <div class=\"colab-df-container\">\n",
              "      <div>\n",
              "<style scoped>\n",
              "    .dataframe tbody tr th:only-of-type {\n",
              "        vertical-align: middle;\n",
              "    }\n",
              "\n",
              "    .dataframe tbody tr th {\n",
              "        vertical-align: top;\n",
              "    }\n",
              "\n",
              "    .dataframe thead th {\n",
              "        text-align: right;\n",
              "    }\n",
              "</style>\n",
              "<table border=\"1\" class=\"dataframe\">\n",
              "  <thead>\n",
              "    <tr style=\"text-align: right;\">\n",
              "      <th></th>\n",
              "      <th>Текст_нарезка_50</th>\n",
              "    </tr>\n",
              "  </thead>\n",
              "  <tbody>\n",
              "    <tr>\n",
              "      <th>0</th>\n",
              "      <td>пешеходов надо любить пешеходы составляют боль...</td>\n",
              "    </tr>\n",
              "    <tr>\n",
              "      <th>1</th>\n",
              "      <td>часть человечества мало тоголучшую его часть п...</td>\n",
              "    </tr>\n",
              "    <tr>\n",
              "      <th>2</th>\n",
              "      <td>оды создали мир это они построили города возве...</td>\n",
              "    </tr>\n",
              "    <tr>\n",
              "      <th>3</th>\n",
              "      <td>ногоэтажные здания провели канализацию и водоп...</td>\n",
              "    </tr>\n",
              "    <tr>\n",
              "      <th>4</th>\n",
              "      <td>д замостили улицы и осветили их электрическими...</td>\n",
              "    </tr>\n",
              "  </tbody>\n",
              "</table>\n",
              "</div>\n",
              "      <button class=\"colab-df-convert\" onclick=\"convertToInteractive('df-bb2ed6e9-e8be-4665-9a5b-19ae5f93af1c')\"\n",
              "              title=\"Convert this dataframe to an interactive table.\"\n",
              "              style=\"display:none;\">\n",
              "        \n",
              "  <svg xmlns=\"http://www.w3.org/2000/svg\" height=\"24px\"viewBox=\"0 0 24 24\"\n",
              "       width=\"24px\">\n",
              "    <path d=\"M0 0h24v24H0V0z\" fill=\"none\"/>\n",
              "    <path d=\"M18.56 5.44l.94 2.06.94-2.06 2.06-.94-2.06-.94-.94-2.06-.94 2.06-2.06.94zm-11 1L8.5 8.5l.94-2.06 2.06-.94-2.06-.94L8.5 2.5l-.94 2.06-2.06.94zm10 10l.94 2.06.94-2.06 2.06-.94-2.06-.94-.94-2.06-.94 2.06-2.06.94z\"/><path d=\"M17.41 7.96l-1.37-1.37c-.4-.4-.92-.59-1.43-.59-.52 0-1.04.2-1.43.59L10.3 9.45l-7.72 7.72c-.78.78-.78 2.05 0 2.83L4 21.41c.39.39.9.59 1.41.59.51 0 1.02-.2 1.41-.59l7.78-7.78 2.81-2.81c.8-.78.8-2.07 0-2.86zM5.41 20L4 18.59l7.72-7.72 1.47 1.35L5.41 20z\"/>\n",
              "  </svg>\n",
              "      </button>\n",
              "      \n",
              "  <style>\n",
              "    .colab-df-container {\n",
              "      display:flex;\n",
              "      flex-wrap:wrap;\n",
              "      gap: 12px;\n",
              "    }\n",
              "\n",
              "    .colab-df-convert {\n",
              "      background-color: #E8F0FE;\n",
              "      border: none;\n",
              "      border-radius: 50%;\n",
              "      cursor: pointer;\n",
              "      display: none;\n",
              "      fill: #1967D2;\n",
              "      height: 32px;\n",
              "      padding: 0 0 0 0;\n",
              "      width: 32px;\n",
              "    }\n",
              "\n",
              "    .colab-df-convert:hover {\n",
              "      background-color: #E2EBFA;\n",
              "      box-shadow: 0px 1px 2px rgba(60, 64, 67, 0.3), 0px 1px 3px 1px rgba(60, 64, 67, 0.15);\n",
              "      fill: #174EA6;\n",
              "    }\n",
              "\n",
              "    [theme=dark] .colab-df-convert {\n",
              "      background-color: #3B4455;\n",
              "      fill: #D2E3FC;\n",
              "    }\n",
              "\n",
              "    [theme=dark] .colab-df-convert:hover {\n",
              "      background-color: #434B5C;\n",
              "      box-shadow: 0px 1px 3px 1px rgba(0, 0, 0, 0.15);\n",
              "      filter: drop-shadow(0px 1px 2px rgba(0, 0, 0, 0.3));\n",
              "      fill: #FFFFFF;\n",
              "    }\n",
              "  </style>\n",
              "\n",
              "      <script>\n",
              "        const buttonEl =\n",
              "          document.querySelector('#df-bb2ed6e9-e8be-4665-9a5b-19ae5f93af1c button.colab-df-convert');\n",
              "        buttonEl.style.display =\n",
              "          google.colab.kernel.accessAllowed ? 'block' : 'none';\n",
              "\n",
              "        async function convertToInteractive(key) {\n",
              "          const element = document.querySelector('#df-bb2ed6e9-e8be-4665-9a5b-19ae5f93af1c');\n",
              "          const dataTable =\n",
              "            await google.colab.kernel.invokeFunction('convertToInteractive',\n",
              "                                                     [key], {});\n",
              "          if (!dataTable) return;\n",
              "\n",
              "          const docLinkHtml = 'Like what you see? Visit the ' +\n",
              "            '<a target=\"_blank\" href=https://colab.research.google.com/notebooks/data_table.ipynb>data table notebook</a>'\n",
              "            + ' to learn more about interactive tables.';\n",
              "          element.innerHTML = '';\n",
              "          dataTable['output_type'] = 'display_data';\n",
              "          await google.colab.output.renderOutput(dataTable, element);\n",
              "          const docLink = document.createElement('div');\n",
              "          docLink.innerHTML = docLinkHtml;\n",
              "          element.appendChild(docLink);\n",
              "        }\n",
              "      </script>\n",
              "    </div>\n",
              "  </div>\n",
              "  "
            ]
          },
          "metadata": {},
          "execution_count": 79
        }
      ]
    },
    {
      "cell_type": "code",
      "source": [
        "df.columns"
      ],
      "metadata": {
        "colab": {
          "base_uri": "https://localhost:8080/"
        },
        "id": "EEgP9oL_k_UE",
        "outputId": "c8a32e58-8396-4abb-e17d-6021752c7954"
      },
      "execution_count": null,
      "outputs": [
        {
          "output_type": "execute_result",
          "data": {
            "text/plain": [
              "Index(['Текст_нарезка_50'], dtype='object')"
            ]
          },
          "metadata": {},
          "execution_count": 80
        }
      ]
    },
    {
      "cell_type": "code",
      "source": [
        "df['смещение']   = [random.randint(1, 10) for i in range(len(df))]\n",
        "df['Метка']= df.loc[:, ['Текст_нарезка_50', 'смещение']].apply(\n",
        "                        lambda row: Сaesar(row['Текст_нарезка_50'], row['смещение']), axis=1)\n",
        "df.head()"
      ],
      "metadata": {
        "colab": {
          "base_uri": "https://localhost:8080/",
          "height": 206
        },
        "id": "OuUYgFoxgyFy",
        "outputId": "67058db3-a3be-40a1-8c5f-cb50b423ec58"
      },
      "execution_count": null,
      "outputs": [
        {
          "output_type": "execute_result",
          "data": {
            "text/plain": [
              "                                    Текст_нарезка_50  смещение  \\\n",
              "0  пешеходов надо любить пешеходы составляют боль...         5   \n",
              "1  часть человечества мало тоголучшую его часть п...         5   \n",
              "2  оды создали мир это они построили города возве...         5   \n",
              "3  ногоэтажные здания провели канализацию и водоп...         5   \n",
              "4  д замостили улицы и осветили их электрическими...         2   \n",
              "\n",
              "                                               Метка  \n",
              "0  фкэкъуйуз тейу ргжнчб фкэкъуйа цуцчезрдгч журб...  \n",
              "1  ьецчб ькрузкькцчзе серу чуиуршьэшг киу ьецчб ф...  \n",
              "2  уйа цумйерн снх вчу утн фуцчхунрн иухуйе зумзк...  \n",
              "3  туиувчелтак мйетнд фхузкрн петернмеынг н зуйуф...  \n",
              "4  ж йворуфкнк хнкшэ к рудзфкнк кч янзмфткщзумкок...  "
            ],
            "text/html": [
              "\n",
              "  <div id=\"df-48acf2b5-e519-4cb7-a5c6-47eda9e8f34d\">\n",
              "    <div class=\"colab-df-container\">\n",
              "      <div>\n",
              "<style scoped>\n",
              "    .dataframe tbody tr th:only-of-type {\n",
              "        vertical-align: middle;\n",
              "    }\n",
              "\n",
              "    .dataframe tbody tr th {\n",
              "        vertical-align: top;\n",
              "    }\n",
              "\n",
              "    .dataframe thead th {\n",
              "        text-align: right;\n",
              "    }\n",
              "</style>\n",
              "<table border=\"1\" class=\"dataframe\">\n",
              "  <thead>\n",
              "    <tr style=\"text-align: right;\">\n",
              "      <th></th>\n",
              "      <th>Текст_нарезка_50</th>\n",
              "      <th>смещение</th>\n",
              "      <th>Метка</th>\n",
              "    </tr>\n",
              "  </thead>\n",
              "  <tbody>\n",
              "    <tr>\n",
              "      <th>0</th>\n",
              "      <td>пешеходов надо любить пешеходы составляют боль...</td>\n",
              "      <td>5</td>\n",
              "      <td>фкэкъуйуз тейу ргжнчб фкэкъуйа цуцчезрдгч журб...</td>\n",
              "    </tr>\n",
              "    <tr>\n",
              "      <th>1</th>\n",
              "      <td>часть человечества мало тоголучшую его часть п...</td>\n",
              "      <td>5</td>\n",
              "      <td>ьецчб ькрузкькцчзе серу чуиуршьэшг киу ьецчб ф...</td>\n",
              "    </tr>\n",
              "    <tr>\n",
              "      <th>2</th>\n",
              "      <td>оды создали мир это они построили города возве...</td>\n",
              "      <td>5</td>\n",
              "      <td>уйа цумйерн снх вчу утн фуцчхунрн иухуйе зумзк...</td>\n",
              "    </tr>\n",
              "    <tr>\n",
              "      <th>3</th>\n",
              "      <td>ногоэтажные здания провели канализацию и водоп...</td>\n",
              "      <td>5</td>\n",
              "      <td>туиувчелтак мйетнд фхузкрн петернмеынг н зуйуф...</td>\n",
              "    </tr>\n",
              "    <tr>\n",
              "      <th>4</th>\n",
              "      <td>д замостили улицы и осветили их электрическими...</td>\n",
              "      <td>2</td>\n",
              "      <td>ж йворуфкнк хнкшэ к рудзфкнк кч янзмфткщзумкок...</td>\n",
              "    </tr>\n",
              "  </tbody>\n",
              "</table>\n",
              "</div>\n",
              "      <button class=\"colab-df-convert\" onclick=\"convertToInteractive('df-48acf2b5-e519-4cb7-a5c6-47eda9e8f34d')\"\n",
              "              title=\"Convert this dataframe to an interactive table.\"\n",
              "              style=\"display:none;\">\n",
              "        \n",
              "  <svg xmlns=\"http://www.w3.org/2000/svg\" height=\"24px\"viewBox=\"0 0 24 24\"\n",
              "       width=\"24px\">\n",
              "    <path d=\"M0 0h24v24H0V0z\" fill=\"none\"/>\n",
              "    <path d=\"M18.56 5.44l.94 2.06.94-2.06 2.06-.94-2.06-.94-.94-2.06-.94 2.06-2.06.94zm-11 1L8.5 8.5l.94-2.06 2.06-.94-2.06-.94L8.5 2.5l-.94 2.06-2.06.94zm10 10l.94 2.06.94-2.06 2.06-.94-2.06-.94-.94-2.06-.94 2.06-2.06.94z\"/><path d=\"M17.41 7.96l-1.37-1.37c-.4-.4-.92-.59-1.43-.59-.52 0-1.04.2-1.43.59L10.3 9.45l-7.72 7.72c-.78.78-.78 2.05 0 2.83L4 21.41c.39.39.9.59 1.41.59.51 0 1.02-.2 1.41-.59l7.78-7.78 2.81-2.81c.8-.78.8-2.07 0-2.86zM5.41 20L4 18.59l7.72-7.72 1.47 1.35L5.41 20z\"/>\n",
              "  </svg>\n",
              "      </button>\n",
              "      \n",
              "  <style>\n",
              "    .colab-df-container {\n",
              "      display:flex;\n",
              "      flex-wrap:wrap;\n",
              "      gap: 12px;\n",
              "    }\n",
              "\n",
              "    .colab-df-convert {\n",
              "      background-color: #E8F0FE;\n",
              "      border: none;\n",
              "      border-radius: 50%;\n",
              "      cursor: pointer;\n",
              "      display: none;\n",
              "      fill: #1967D2;\n",
              "      height: 32px;\n",
              "      padding: 0 0 0 0;\n",
              "      width: 32px;\n",
              "    }\n",
              "\n",
              "    .colab-df-convert:hover {\n",
              "      background-color: #E2EBFA;\n",
              "      box-shadow: 0px 1px 2px rgba(60, 64, 67, 0.3), 0px 1px 3px 1px rgba(60, 64, 67, 0.15);\n",
              "      fill: #174EA6;\n",
              "    }\n",
              "\n",
              "    [theme=dark] .colab-df-convert {\n",
              "      background-color: #3B4455;\n",
              "      fill: #D2E3FC;\n",
              "    }\n",
              "\n",
              "    [theme=dark] .colab-df-convert:hover {\n",
              "      background-color: #434B5C;\n",
              "      box-shadow: 0px 1px 3px 1px rgba(0, 0, 0, 0.15);\n",
              "      filter: drop-shadow(0px 1px 2px rgba(0, 0, 0, 0.3));\n",
              "      fill: #FFFFFF;\n",
              "    }\n",
              "  </style>\n",
              "\n",
              "      <script>\n",
              "        const buttonEl =\n",
              "          document.querySelector('#df-48acf2b5-e519-4cb7-a5c6-47eda9e8f34d button.colab-df-convert');\n",
              "        buttonEl.style.display =\n",
              "          google.colab.kernel.accessAllowed ? 'block' : 'none';\n",
              "\n",
              "        async function convertToInteractive(key) {\n",
              "          const element = document.querySelector('#df-48acf2b5-e519-4cb7-a5c6-47eda9e8f34d');\n",
              "          const dataTable =\n",
              "            await google.colab.kernel.invokeFunction('convertToInteractive',\n",
              "                                                     [key], {});\n",
              "          if (!dataTable) return;\n",
              "\n",
              "          const docLinkHtml = 'Like what you see? Visit the ' +\n",
              "            '<a target=\"_blank\" href=https://colab.research.google.com/notebooks/data_table.ipynb>data table notebook</a>'\n",
              "            + ' to learn more about interactive tables.';\n",
              "          element.innerHTML = '';\n",
              "          dataTable['output_type'] = 'display_data';\n",
              "          await google.colab.output.renderOutput(dataTable, element);\n",
              "          const docLink = document.createElement('div');\n",
              "          docLink.innerHTML = docLinkHtml;\n",
              "          element.appendChild(docLink);\n",
              "        }\n",
              "      </script>\n",
              "    </div>\n",
              "  </div>\n",
              "  "
            ]
          },
          "metadata": {},
          "execution_count": 81
        }
      ]
    },
    {
      "cell_type": "code",
      "source": [
        "print(df.iloc[:9502,:].shape)\n",
        "df = df.iloc[:9502,:]"
      ],
      "metadata": {
        "colab": {
          "base_uri": "https://localhost:8080/"
        },
        "id": "B6GAjXpKpojS",
        "outputId": "ce2b404c-92fb-4dec-9a7b-079510ac5f58"
      },
      "execution_count": null,
      "outputs": [
        {
          "output_type": "stream",
          "name": "stdout",
          "text": [
            "(9502, 3)\n"
          ]
        }
      ]
    },
    {
      "cell_type": "code",
      "metadata": {
        "id": "OQd6ZaqzavkE"
      },
      "source": [
        "train, test = train_test_split(df, test_size=0.2)\n",
        "train_text = [[c for c in ph] for ph in train['Метка'] if type(ph) is str]\n",
        "train_label= [[c for c in ph] for ph in train['Текст_нарезка_50'] if type(ph) is str]\n",
        "test_text   = [[c for c in ph] for ph in test['Метка'] if type(ph) is str]\n",
        "test_label  = [[c for c in ph] for ph in test['Текст_нарезка_50'] if type(ph) is str]"
      ],
      "execution_count": null,
      "outputs": []
    },
    {
      "cell_type": "code",
      "source": [
        "len(train_text)"
      ],
      "metadata": {
        "colab": {
          "base_uri": "https://localhost:8080/"
        },
        "id": "wolJdXS4m4sm",
        "outputId": "d2184c2f-cdad-4a95-96a3-0519d16851c2"
      },
      "execution_count": null,
      "outputs": [
        {
          "output_type": "execute_result",
          "data": {
            "text/plain": [
              "7601"
            ]
          },
          "metadata": {},
          "execution_count": 85
        }
      ]
    },
    {
      "cell_type": "code",
      "metadata": {
        "id": "_gsSpu3SOVsa"
      },
      "source": [
        "MAX_LEN       = 50\n",
        "ABC           = ['none'] + [w for w in set('абвгдеёжзийклмнопрстуфхцчшщъыьэюя ')]\n",
        "CHAR_TO_INDEX = {w: i for i, w in enumerate(ABC)}\n",
        "INDEX_TO_CHAR = {i: w for i, w in enumerate(ABC)}\n",
        "\n",
        "def convert_to_torch(text):\n",
        "    output = torch.zeros((len(text), MAX_LEN), dtype=int)\n",
        "    for i in range(len(text)):\n",
        "        for j, w in enumerate(text[i]):\n",
        "            if j >= MAX_LEN:\n",
        "                break\n",
        "            output[i, j] = CHAR_TO_INDEX.get(w, CHAR_TO_INDEX['none'])\n",
        "\n",
        "    return output\n",
        "\n",
        "X_train= convert_to_torch(train_text)\n",
        "Y_train= convert_to_torch(train_label)\n",
        "X_test = convert_to_torch(test_text)\n",
        "Y_test = convert_to_torch(test_label)"
      ],
      "execution_count": null,
      "outputs": []
    },
    {
      "cell_type": "markdown",
      "metadata": {
        "id": "BvfXfOuOqL73"
      },
      "source": [
        "**4. Задаем параметры обучения**"
      ]
    },
    {
      "cell_type": "code",
      "metadata": {
        "id": "Zm2UTy-eavqU"
      },
      "source": [
        "class RNN_Network(torch.nn.Module):\n",
        "    def __init__(self):\n",
        "        super(RNN_Network, self).__init__()\n",
        "        self.embeddings = torch.nn.Embedding(len(ABC), 28)\n",
        "        self.rnn = torch.nn.RNN(28, 256, batch_first=True)\n",
        "        self.linear = torch.nn.Linear(256, len(ABC))\n",
        "\n",
        "    def forward(self, sentences, state=None):\n",
        "        embds = self.embeddings(sentences)\n",
        "        out, new_state = self.rnn(embds, state)\n",
        "        result = self.linear(out)\n",
        "        return result, new_state"
      ],
      "execution_count": null,
      "outputs": []
    },
    {
      "cell_type": "code",
      "metadata": {
        "id": "Z8zf6Spu8kxd"
      },
      "source": [
        "model = RNN_Network().to(dev)\n",
        "criterion = torch.nn.CrossEntropyLoss()\n",
        "optimizer = torch.optim.Adam(model.parameters(), lr=0.0005)\n",
        "epochs    = 40\n",
        "loss_best = 10**10"
      ],
      "execution_count": null,
      "outputs": []
    },
    {
      "cell_type": "markdown",
      "metadata": {
        "id": "8WXIG5QqqT5u"
      },
      "source": [
        "**5.  Обучение**"
      ]
    },
    {
      "cell_type": "code",
      "metadata": {
        "colab": {
          "base_uri": "https://localhost:8080/"
        },
        "id": "CdSOS6x7WEFD",
        "outputId": "30426fff-693e-4e39-ea8f-80c96ecf7b20"
      },
      "source": [
        "for epoch in range(epochs):\n",
        "    start = time.time()\n",
        "    train_loss = 0.\n",
        "    train_passed = 0\n",
        "    test_loss = 0\n",
        "    test_passed = 0\n",
        "\n",
        "    for i in range(int(len(X_train) / 100)):\n",
        "        X_batch = X_train[i * 100:(i + 1) * 100].to(dev)\n",
        "        Y_batch = Y_train[i * 100:(i + 1) * 100].flatten().to(dev)\n",
        "        model.train()\n",
        "        optimizer.zero_grad()\n",
        "        answers, _ = model.forward(X_batch)\n",
        "        answers = answers.view(-1, len(ABC))\n",
        "        loss = criterion(answers, Y_batch).to(dev)\n",
        "\n",
        "        if loss < loss_best:\n",
        "            model_best = copy.copy(model)#.to(dev)\n",
        "            loss_best = loss#.to(dev)\n",
        "\n",
        "        train_loss += loss.item()\n",
        "        loss.backward()\n",
        "        optimizer.step()\n",
        "        train_passed += 1\n",
        "\n",
        "    with torch.no_grad():\n",
        "        model.eval()\n",
        "        answers, _ = model.forward(X_test.to(dev))\n",
        "        answers = answers.view(-1, len(ABC))\n",
        "        loss = criterion(answers, Y_test.flatten().to(dev))\n",
        "        test_loss += loss.item()\n",
        "        test_passed += 1\n",
        "\n",
        "    if epoch%1 == 0:\n",
        "        print(f\"Epoch {epoch}. Time: {time.time() - start:.3f}, Train loss: {train_loss / train_passed:.3f}, Test loss: {test_loss / test_passed:.6f}\")"
      ],
      "execution_count": null,
      "outputs": [
        {
          "output_type": "stream",
          "name": "stdout",
          "text": [
            "Epoch 0. Time: 0.417, Train loss: 2.685, Test loss: 2.296842\n",
            "Epoch 1. Time: 0.301, Train loss: 2.076, Test loss: 1.890375\n",
            "Epoch 2. Time: 0.296, Train loss: 1.778, Test loss: 1.686876\n",
            "Epoch 3. Time: 0.286, Train loss: 1.625, Test loss: 1.576600\n",
            "Epoch 4. Time: 0.297, Train loss: 1.519, Test loss: 1.472714\n",
            "Epoch 5. Time: 0.292, Train loss: 1.418, Test loss: 1.373320\n",
            "Epoch 6. Time: 0.298, Train loss: 1.324, Test loss: 1.285909\n",
            "Epoch 7. Time: 0.288, Train loss: 1.245, Test loss: 1.218729\n",
            "Epoch 8. Time: 0.291, Train loss: 1.186, Test loss: 1.161821\n",
            "Epoch 9. Time: 0.290, Train loss: 1.129, Test loss: 1.107496\n",
            "Epoch 10. Time: 0.292, Train loss: 1.080, Test loss: 1.062487\n",
            "Epoch 11. Time: 0.291, Train loss: 1.032, Test loss: 1.023842\n",
            "Epoch 12. Time: 0.297, Train loss: 0.986, Test loss: 0.982712\n",
            "Epoch 13. Time: 0.298, Train loss: 0.943, Test loss: 0.945887\n",
            "Epoch 14. Time: 0.290, Train loss: 0.901, Test loss: 0.908254\n",
            "Epoch 15. Time: 0.293, Train loss: 0.861, Test loss: 0.872021\n",
            "Epoch 16. Time: 0.295, Train loss: 0.827, Test loss: 0.851027\n",
            "Epoch 17. Time: 0.292, Train loss: 0.791, Test loss: 0.806444\n",
            "Epoch 18. Time: 0.291, Train loss: 0.751, Test loss: 0.784386\n",
            "Epoch 19. Time: 0.311, Train loss: 0.711, Test loss: 0.740230\n",
            "Epoch 20. Time: 0.296, Train loss: 0.672, Test loss: 0.695863\n",
            "Epoch 21. Time: 0.297, Train loss: 0.633, Test loss: 0.674847\n",
            "Epoch 22. Time: 0.295, Train loss: 0.611, Test loss: 0.668185\n",
            "Epoch 23. Time: 0.291, Train loss: 0.601, Test loss: 0.615245\n",
            "Epoch 24. Time: 0.294, Train loss: 0.555, Test loss: 0.590262\n",
            "Epoch 25. Time: 0.344, Train loss: 0.524, Test loss: 0.598003\n",
            "Epoch 26. Time: 0.328, Train loss: 0.504, Test loss: 0.596645\n",
            "Epoch 27. Time: 0.332, Train loss: 0.473, Test loss: 0.534811\n",
            "Epoch 28. Time: 0.328, Train loss: 0.447, Test loss: 0.524990\n",
            "Epoch 29. Time: 0.339, Train loss: 0.424, Test loss: 0.508021\n",
            "Epoch 30. Time: 0.327, Train loss: 0.402, Test loss: 0.496413\n",
            "Epoch 31. Time: 0.341, Train loss: 0.383, Test loss: 0.487124\n",
            "Epoch 32. Time: 0.339, Train loss: 0.366, Test loss: 0.475444\n",
            "Epoch 33. Time: 0.352, Train loss: 0.350, Test loss: 0.461034\n",
            "Epoch 34. Time: 0.330, Train loss: 0.336, Test loss: 0.449398\n",
            "Epoch 35. Time: 0.301, Train loss: 0.372, Test loss: 0.442422\n",
            "Epoch 36. Time: 0.296, Train loss: 0.346, Test loss: 0.478299\n",
            "Epoch 37. Time: 0.295, Train loss: 0.324, Test loss: 0.411508\n",
            "Epoch 38. Time: 0.290, Train loss: 0.322, Test loss: 0.388119\n",
            "Epoch 39. Time: 0.294, Train loss: 0.321, Test loss: 0.409381\n"
          ]
        }
      ]
    },
    {
      "cell_type": "code",
      "metadata": {
        "id": "pcwK4w2wINlq",
        "colab": {
          "base_uri": "https://localhost:8080/"
        },
        "outputId": "02d51b02-1195-4712-ded1-29b83256b00e"
      },
      "source": [
        "loss_best"
      ],
      "execution_count": null,
      "outputs": [
        {
          "output_type": "execute_result",
          "data": {
            "text/plain": [
              "tensor(0.2638, device='cuda:0', grad_fn=<NllLossBackward0>)"
            ]
          },
          "metadata": {},
          "execution_count": 90
        }
      ]
    },
    {
      "cell_type": "markdown",
      "metadata": {
        "id": "RAxS23KAqIB-"
      },
      "source": [
        "**6. Смотрим что получилось**"
      ]
    },
    {
      "cell_type": "code",
      "metadata": {
        "id": "Kmey1qphJ1tk",
        "colab": {
          "base_uri": "https://localhost:8080/"
        },
        "outputId": "a0a32cb6-b6d9-469b-a3f3-123810aadb43"
      },
      "source": [
        "ZZZ = convert_to_torch([[c for c in ph] for ph in df['Метка']\n",
        "                                        if type(ph) is str])\n",
        "\n",
        "\n",
        "df['Расшифровка']= [''.join([INDEX_TO_CHAR[i.item()] for i\n",
        "                    in model_best(ZZZ.to(dev))[0][line].argmax(dim=1).detach()])\n",
        "                    for line in range(df.shape[0])]"
      ],
      "execution_count": null,
      "outputs": [
        {
          "output_type": "stream",
          "name": "stderr",
          "text": [
            "<ipython-input-91-de88a0cda638>:5: SettingWithCopyWarning: \n",
            "A value is trying to be set on a copy of a slice from a DataFrame.\n",
            "Try using .loc[row_indexer,col_indexer] = value instead\n",
            "\n",
            "See the caveats in the documentation: https://pandas.pydata.org/pandas-docs/stable/user_guide/indexing.html#returning-a-view-versus-a-copy\n",
            "  df['Расшифровка']= [''.join([INDEX_TO_CHAR[i.item()] for i\n"
          ]
        }
      ]
    },
    {
      "cell_type": "code",
      "metadata": {
        "id": "C05sSVnVKDZG",
        "colab": {
          "base_uri": "https://localhost:8080/",
          "height": 423
        },
        "outputId": "74c1e15d-21bf-466c-e174-a90f796f00fa"
      },
      "source": [
        "df"
      ],
      "execution_count": null,
      "outputs": [
        {
          "output_type": "execute_result",
          "data": {
            "text/plain": [
              "                                       Текст_нарезка_50  смещение  \\\n",
              "0     пешеходов надо любить пешеходы составляют боль...         5   \n",
              "1     часть человечества мало тоголучшую его часть п...         5   \n",
              "2     оды создали мир это они построили города возве...         5   \n",
              "3     ногоэтажные здания провели канализацию и водоп...         5   \n",
              "4     д замостили улицы и осветили их электрическими...         2   \n",
              "...                                                 ...       ...   \n",
              "9497  ь и хвалил юг но улыбка снова подымала его выц...        10   \n",
              "9498  ие на солнце усыостап побежал к вагонам северн...         4   \n",
              "9499  городка однако городок был пуст все его жители...        10   \n",
              "9500  и к трибуне перед которой уже сидели музыканты...        10   \n",
              "9501  игая губы о горячие металлические мундштуки он...         8   \n",
              "\n",
              "                                                  Метка  \\\n",
              "0     фкэкъуйуз тейу ргжнчб фкэкъуйа цуцчезрдгч журб...   \n",
              "1     ьецчб ькрузкькцчзе серу чуиуршьэшг киу ьецчб ф...   \n",
              "2     уйа цумйерн снх вчу утн фуцчхунрн иухуйе зумзк...   \n",
              "3     туиувчелтак мйетнд фхузкрн петернмеынг н зуйуф...   \n",
              "4     ж йворуфкнк хнкшэ к рудзфкнк кч янзмфткщзумкок...   \n",
              "...                                                 ...   \n",
              "9497  ж т ямкхтх ин чш эхелфк ычшмк щшоецкхк пнш меа...   \n",
              "9498  мй сд хтпсъй чхятхцду утейкдп о ждзтсдр хйжйфс...   \n",
              "9499  ншъшофк шочкфш ншъшошф лех щэыь мып пнш ртьпхт...   \n",
              "9500  т ф ьътлэчп щпъпо фшьшъшу эрп ытопхт цэсефкчье...   \n",
              "9501  рлиз лыйг ц лцшзярн фнъиуурянщтрн фыхмаъытр цх...   \n",
              "\n",
              "                                            Расшифровка  \n",
              "0     оахеткяка иыво кюбить пешеходы составляют воль...  \n",
              "1     тасны талнвечестаа кало тоголуччую его часть п...  \n",
              "2     оич ноеаали мир это они построили города возве...  \n",
              "3     оогоятаеные здания провели канализацию и водоп...  \n",
              "4     е далостили улицы и осветили их электрическими...  \n",
              "...                                                 ...  \n",
              "9497  е с чвалил бг но улыбна снова подымала его выц...  \n",
              "9498  ва на солнце усыостап побежал к вагонам северн...  \n",
              "9499  иотоела однако городок был пуст все его жители...  \n",
              "9500  о к урибуне перед которой уже сидели музыканты...  \n",
              "9501  оиая иуаы о горячие металлические мундштуки он...  \n",
              "\n",
              "[9502 rows x 4 columns]"
            ],
            "text/html": [
              "\n",
              "  <div id=\"df-4fed0cd3-db54-465b-a556-3a430ee2bfc4\">\n",
              "    <div class=\"colab-df-container\">\n",
              "      <div>\n",
              "<style scoped>\n",
              "    .dataframe tbody tr th:only-of-type {\n",
              "        vertical-align: middle;\n",
              "    }\n",
              "\n",
              "    .dataframe tbody tr th {\n",
              "        vertical-align: top;\n",
              "    }\n",
              "\n",
              "    .dataframe thead th {\n",
              "        text-align: right;\n",
              "    }\n",
              "</style>\n",
              "<table border=\"1\" class=\"dataframe\">\n",
              "  <thead>\n",
              "    <tr style=\"text-align: right;\">\n",
              "      <th></th>\n",
              "      <th>Текст_нарезка_50</th>\n",
              "      <th>смещение</th>\n",
              "      <th>Метка</th>\n",
              "      <th>Расшифровка</th>\n",
              "    </tr>\n",
              "  </thead>\n",
              "  <tbody>\n",
              "    <tr>\n",
              "      <th>0</th>\n",
              "      <td>пешеходов надо любить пешеходы составляют боль...</td>\n",
              "      <td>5</td>\n",
              "      <td>фкэкъуйуз тейу ргжнчб фкэкъуйа цуцчезрдгч журб...</td>\n",
              "      <td>оахеткяка иыво кюбить пешеходы составляют воль...</td>\n",
              "    </tr>\n",
              "    <tr>\n",
              "      <th>1</th>\n",
              "      <td>часть человечества мало тоголучшую его часть п...</td>\n",
              "      <td>5</td>\n",
              "      <td>ьецчб ькрузкькцчзе серу чуиуршьэшг киу ьецчб ф...</td>\n",
              "      <td>тасны талнвечестаа кало тоголуччую его часть п...</td>\n",
              "    </tr>\n",
              "    <tr>\n",
              "      <th>2</th>\n",
              "      <td>оды создали мир это они построили города возве...</td>\n",
              "      <td>5</td>\n",
              "      <td>уйа цумйерн снх вчу утн фуцчхунрн иухуйе зумзк...</td>\n",
              "      <td>оич ноеаали мир это они построили города возве...</td>\n",
              "    </tr>\n",
              "    <tr>\n",
              "      <th>3</th>\n",
              "      <td>ногоэтажные здания провели канализацию и водоп...</td>\n",
              "      <td>5</td>\n",
              "      <td>туиувчелтак мйетнд фхузкрн петернмеынг н зуйуф...</td>\n",
              "      <td>оогоятаеные здания провели канализацию и водоп...</td>\n",
              "    </tr>\n",
              "    <tr>\n",
              "      <th>4</th>\n",
              "      <td>д замостили улицы и осветили их электрическими...</td>\n",
              "      <td>2</td>\n",
              "      <td>ж йворуфкнк хнкшэ к рудзфкнк кч янзмфткщзумкок...</td>\n",
              "      <td>е далостили улицы и осветили их электрическими...</td>\n",
              "    </tr>\n",
              "    <tr>\n",
              "      <th>...</th>\n",
              "      <td>...</td>\n",
              "      <td>...</td>\n",
              "      <td>...</td>\n",
              "      <td>...</td>\n",
              "    </tr>\n",
              "    <tr>\n",
              "      <th>9497</th>\n",
              "      <td>ь и хвалил юг но улыбка снова подымала его выц...</td>\n",
              "      <td>10</td>\n",
              "      <td>ж т ямкхтх ин чш эхелфк ычшмк щшоецкхк пнш меа...</td>\n",
              "      <td>е с чвалил бг но улыбна снова подымала его выц...</td>\n",
              "    </tr>\n",
              "    <tr>\n",
              "      <th>9498</th>\n",
              "      <td>ие на солнце усыостап побежал к вагонам северн...</td>\n",
              "      <td>4</td>\n",
              "      <td>мй сд хтпсъй чхятхцду утейкдп о ждзтсдр хйжйфс...</td>\n",
              "      <td>ва на солнце усыостап побежал к вагонам северн...</td>\n",
              "    </tr>\n",
              "    <tr>\n",
              "      <th>9499</th>\n",
              "      <td>городка однако городок был пуст все его жители...</td>\n",
              "      <td>10</td>\n",
              "      <td>ншъшофк шочкфш ншъшошф лех щэыь мып пнш ртьпхт...</td>\n",
              "      <td>иотоела однако городок был пуст все его жители...</td>\n",
              "    </tr>\n",
              "    <tr>\n",
              "      <th>9500</th>\n",
              "      <td>и к трибуне перед которой уже сидели музыканты...</td>\n",
              "      <td>10</td>\n",
              "      <td>т ф ьътлэчп щпъпо фшьшъшу эрп ытопхт цэсефкчье...</td>\n",
              "      <td>о к урибуне перед которой уже сидели музыканты...</td>\n",
              "    </tr>\n",
              "    <tr>\n",
              "      <th>9501</th>\n",
              "      <td>игая губы о горячие металлические мундштуки он...</td>\n",
              "      <td>8</td>\n",
              "      <td>рлиз лыйг ц лцшзярн фнъиуурянщтрн фыхмаъытр цх...</td>\n",
              "      <td>оиая иуаы о горячие металлические мундштуки он...</td>\n",
              "    </tr>\n",
              "  </tbody>\n",
              "</table>\n",
              "<p>9502 rows × 4 columns</p>\n",
              "</div>\n",
              "      <button class=\"colab-df-convert\" onclick=\"convertToInteractive('df-4fed0cd3-db54-465b-a556-3a430ee2bfc4')\"\n",
              "              title=\"Convert this dataframe to an interactive table.\"\n",
              "              style=\"display:none;\">\n",
              "        \n",
              "  <svg xmlns=\"http://www.w3.org/2000/svg\" height=\"24px\"viewBox=\"0 0 24 24\"\n",
              "       width=\"24px\">\n",
              "    <path d=\"M0 0h24v24H0V0z\" fill=\"none\"/>\n",
              "    <path d=\"M18.56 5.44l.94 2.06.94-2.06 2.06-.94-2.06-.94-.94-2.06-.94 2.06-2.06.94zm-11 1L8.5 8.5l.94-2.06 2.06-.94-2.06-.94L8.5 2.5l-.94 2.06-2.06.94zm10 10l.94 2.06.94-2.06 2.06-.94-2.06-.94-.94-2.06-.94 2.06-2.06.94z\"/><path d=\"M17.41 7.96l-1.37-1.37c-.4-.4-.92-.59-1.43-.59-.52 0-1.04.2-1.43.59L10.3 9.45l-7.72 7.72c-.78.78-.78 2.05 0 2.83L4 21.41c.39.39.9.59 1.41.59.51 0 1.02-.2 1.41-.59l7.78-7.78 2.81-2.81c.8-.78.8-2.07 0-2.86zM5.41 20L4 18.59l7.72-7.72 1.47 1.35L5.41 20z\"/>\n",
              "  </svg>\n",
              "      </button>\n",
              "      \n",
              "  <style>\n",
              "    .colab-df-container {\n",
              "      display:flex;\n",
              "      flex-wrap:wrap;\n",
              "      gap: 12px;\n",
              "    }\n",
              "\n",
              "    .colab-df-convert {\n",
              "      background-color: #E8F0FE;\n",
              "      border: none;\n",
              "      border-radius: 50%;\n",
              "      cursor: pointer;\n",
              "      display: none;\n",
              "      fill: #1967D2;\n",
              "      height: 32px;\n",
              "      padding: 0 0 0 0;\n",
              "      width: 32px;\n",
              "    }\n",
              "\n",
              "    .colab-df-convert:hover {\n",
              "      background-color: #E2EBFA;\n",
              "      box-shadow: 0px 1px 2px rgba(60, 64, 67, 0.3), 0px 1px 3px 1px rgba(60, 64, 67, 0.15);\n",
              "      fill: #174EA6;\n",
              "    }\n",
              "\n",
              "    [theme=dark] .colab-df-convert {\n",
              "      background-color: #3B4455;\n",
              "      fill: #D2E3FC;\n",
              "    }\n",
              "\n",
              "    [theme=dark] .colab-df-convert:hover {\n",
              "      background-color: #434B5C;\n",
              "      box-shadow: 0px 1px 3px 1px rgba(0, 0, 0, 0.15);\n",
              "      filter: drop-shadow(0px 1px 2px rgba(0, 0, 0, 0.3));\n",
              "      fill: #FFFFFF;\n",
              "    }\n",
              "  </style>\n",
              "\n",
              "      <script>\n",
              "        const buttonEl =\n",
              "          document.querySelector('#df-4fed0cd3-db54-465b-a556-3a430ee2bfc4 button.colab-df-convert');\n",
              "        buttonEl.style.display =\n",
              "          google.colab.kernel.accessAllowed ? 'block' : 'none';\n",
              "\n",
              "        async function convertToInteractive(key) {\n",
              "          const element = document.querySelector('#df-4fed0cd3-db54-465b-a556-3a430ee2bfc4');\n",
              "          const dataTable =\n",
              "            await google.colab.kernel.invokeFunction('convertToInteractive',\n",
              "                                                     [key], {});\n",
              "          if (!dataTable) return;\n",
              "\n",
              "          const docLinkHtml = 'Like what you see? Visit the ' +\n",
              "            '<a target=\"_blank\" href=https://colab.research.google.com/notebooks/data_table.ipynb>data table notebook</a>'\n",
              "            + ' to learn more about interactive tables.';\n",
              "          element.innerHTML = '';\n",
              "          dataTable['output_type'] = 'display_data';\n",
              "          await google.colab.output.renderOutput(dataTable, element);\n",
              "          const docLink = document.createElement('div');\n",
              "          docLink.innerHTML = docLinkHtml;\n",
              "          element.appendChild(docLink);\n",
              "        }\n",
              "      </script>\n",
              "    </div>\n",
              "  </div>\n",
              "  "
            ]
          },
          "metadata": {},
          "execution_count": 92
        }
      ]
    }
  ]
}